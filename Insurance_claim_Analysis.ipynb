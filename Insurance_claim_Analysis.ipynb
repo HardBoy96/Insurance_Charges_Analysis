{
  "nbformat": 4,
  "nbformat_minor": 0,
  "metadata": {
    "colab": {
      "provenance": []
    },
    "kernelspec": {
      "name": "python3",
      "display_name": "Python 3"
    },
    "language_info": {
      "name": "python"
    }
  },
  "cells": [
    {
      "cell_type": "code",
      "execution_count": 6,
      "metadata": {
        "id": "OZr5hUvRCoEx"
      },
      "outputs": [],
      "source": [
        "import numpy as np\n",
        "import pandas as pd\n",
        "import matplotlib.pyplot as plt\n",
        "import seaborn as sns"
      ]
    },
    {
      "cell_type": "code",
      "source": [
        "df = pd.read_csv('insurance_data.csv')\n",
        "df.head()"
      ],
      "metadata": {
        "colab": {
          "base_uri": "https://localhost:8080/",
          "height": 204
        },
        "id": "_tA9e3S5DAQd",
        "outputId": "fbd44de6-ceb2-41bc-d7ee-b40e885e84b0"
      },
      "execution_count": 7,
      "outputs": [
        {
          "output_type": "execute_result",
          "data": {
            "text/plain": [
              "   index  PatientID   age gender   bmi  bloodpressure diabetic  children  \\\n",
              "0      0          1  39.0   male  23.2             91      Yes         0   \n",
              "1      1          2  24.0   male  30.1             87       No         0   \n",
              "2      2          3   NaN   male  33.3             82      Yes         0   \n",
              "3      3          4   NaN   male  33.7             80       No         0   \n",
              "4      4          5   NaN   male  34.1            100       No         0   \n",
              "\n",
              "  smoker     region    claim  \n",
              "0     No  southeast  1121.87  \n",
              "1     No  southeast  1131.51  \n",
              "2     No  southeast  1135.94  \n",
              "3     No  northwest  1136.40  \n",
              "4     No  northwest  1137.01  "
            ],
            "text/html": [
              "\n",
              "  <div id=\"df-84bebd69-8cea-403a-ab7f-31164c0ae3b5\">\n",
              "    <div class=\"colab-df-container\">\n",
              "      <div>\n",
              "<style scoped>\n",
              "    .dataframe tbody tr th:only-of-type {\n",
              "        vertical-align: middle;\n",
              "    }\n",
              "\n",
              "    .dataframe tbody tr th {\n",
              "        vertical-align: top;\n",
              "    }\n",
              "\n",
              "    .dataframe thead th {\n",
              "        text-align: right;\n",
              "    }\n",
              "</style>\n",
              "<table border=\"1\" class=\"dataframe\">\n",
              "  <thead>\n",
              "    <tr style=\"text-align: right;\">\n",
              "      <th></th>\n",
              "      <th>index</th>\n",
              "      <th>PatientID</th>\n",
              "      <th>age</th>\n",
              "      <th>gender</th>\n",
              "      <th>bmi</th>\n",
              "      <th>bloodpressure</th>\n",
              "      <th>diabetic</th>\n",
              "      <th>children</th>\n",
              "      <th>smoker</th>\n",
              "      <th>region</th>\n",
              "      <th>claim</th>\n",
              "    </tr>\n",
              "  </thead>\n",
              "  <tbody>\n",
              "    <tr>\n",
              "      <th>0</th>\n",
              "      <td>0</td>\n",
              "      <td>1</td>\n",
              "      <td>39.0</td>\n",
              "      <td>male</td>\n",
              "      <td>23.2</td>\n",
              "      <td>91</td>\n",
              "      <td>Yes</td>\n",
              "      <td>0</td>\n",
              "      <td>No</td>\n",
              "      <td>southeast</td>\n",
              "      <td>1121.87</td>\n",
              "    </tr>\n",
              "    <tr>\n",
              "      <th>1</th>\n",
              "      <td>1</td>\n",
              "      <td>2</td>\n",
              "      <td>24.0</td>\n",
              "      <td>male</td>\n",
              "      <td>30.1</td>\n",
              "      <td>87</td>\n",
              "      <td>No</td>\n",
              "      <td>0</td>\n",
              "      <td>No</td>\n",
              "      <td>southeast</td>\n",
              "      <td>1131.51</td>\n",
              "    </tr>\n",
              "    <tr>\n",
              "      <th>2</th>\n",
              "      <td>2</td>\n",
              "      <td>3</td>\n",
              "      <td>NaN</td>\n",
              "      <td>male</td>\n",
              "      <td>33.3</td>\n",
              "      <td>82</td>\n",
              "      <td>Yes</td>\n",
              "      <td>0</td>\n",
              "      <td>No</td>\n",
              "      <td>southeast</td>\n",
              "      <td>1135.94</td>\n",
              "    </tr>\n",
              "    <tr>\n",
              "      <th>3</th>\n",
              "      <td>3</td>\n",
              "      <td>4</td>\n",
              "      <td>NaN</td>\n",
              "      <td>male</td>\n",
              "      <td>33.7</td>\n",
              "      <td>80</td>\n",
              "      <td>No</td>\n",
              "      <td>0</td>\n",
              "      <td>No</td>\n",
              "      <td>northwest</td>\n",
              "      <td>1136.40</td>\n",
              "    </tr>\n",
              "    <tr>\n",
              "      <th>4</th>\n",
              "      <td>4</td>\n",
              "      <td>5</td>\n",
              "      <td>NaN</td>\n",
              "      <td>male</td>\n",
              "      <td>34.1</td>\n",
              "      <td>100</td>\n",
              "      <td>No</td>\n",
              "      <td>0</td>\n",
              "      <td>No</td>\n",
              "      <td>northwest</td>\n",
              "      <td>1137.01</td>\n",
              "    </tr>\n",
              "  </tbody>\n",
              "</table>\n",
              "</div>\n",
              "      <button class=\"colab-df-convert\" onclick=\"convertToInteractive('df-84bebd69-8cea-403a-ab7f-31164c0ae3b5')\"\n",
              "              title=\"Convert this dataframe to an interactive table.\"\n",
              "              style=\"display:none;\">\n",
              "        \n",
              "  <svg xmlns=\"http://www.w3.org/2000/svg\" height=\"24px\"viewBox=\"0 0 24 24\"\n",
              "       width=\"24px\">\n",
              "    <path d=\"M0 0h24v24H0V0z\" fill=\"none\"/>\n",
              "    <path d=\"M18.56 5.44l.94 2.06.94-2.06 2.06-.94-2.06-.94-.94-2.06-.94 2.06-2.06.94zm-11 1L8.5 8.5l.94-2.06 2.06-.94-2.06-.94L8.5 2.5l-.94 2.06-2.06.94zm10 10l.94 2.06.94-2.06 2.06-.94-2.06-.94-.94-2.06-.94 2.06-2.06.94z\"/><path d=\"M17.41 7.96l-1.37-1.37c-.4-.4-.92-.59-1.43-.59-.52 0-1.04.2-1.43.59L10.3 9.45l-7.72 7.72c-.78.78-.78 2.05 0 2.83L4 21.41c.39.39.9.59 1.41.59.51 0 1.02-.2 1.41-.59l7.78-7.78 2.81-2.81c.8-.78.8-2.07 0-2.86zM5.41 20L4 18.59l7.72-7.72 1.47 1.35L5.41 20z\"/>\n",
              "  </svg>\n",
              "      </button>\n",
              "      \n",
              "  <style>\n",
              "    .colab-df-container {\n",
              "      display:flex;\n",
              "      flex-wrap:wrap;\n",
              "      gap: 12px;\n",
              "    }\n",
              "\n",
              "    .colab-df-convert {\n",
              "      background-color: #E8F0FE;\n",
              "      border: none;\n",
              "      border-radius: 50%;\n",
              "      cursor: pointer;\n",
              "      display: none;\n",
              "      fill: #1967D2;\n",
              "      height: 32px;\n",
              "      padding: 0 0 0 0;\n",
              "      width: 32px;\n",
              "    }\n",
              "\n",
              "    .colab-df-convert:hover {\n",
              "      background-color: #E2EBFA;\n",
              "      box-shadow: 0px 1px 2px rgba(60, 64, 67, 0.3), 0px 1px 3px 1px rgba(60, 64, 67, 0.15);\n",
              "      fill: #174EA6;\n",
              "    }\n",
              "\n",
              "    [theme=dark] .colab-df-convert {\n",
              "      background-color: #3B4455;\n",
              "      fill: #D2E3FC;\n",
              "    }\n",
              "\n",
              "    [theme=dark] .colab-df-convert:hover {\n",
              "      background-color: #434B5C;\n",
              "      box-shadow: 0px 1px 3px 1px rgba(0, 0, 0, 0.15);\n",
              "      filter: drop-shadow(0px 1px 2px rgba(0, 0, 0, 0.3));\n",
              "      fill: #FFFFFF;\n",
              "    }\n",
              "  </style>\n",
              "\n",
              "      <script>\n",
              "        const buttonEl =\n",
              "          document.querySelector('#df-84bebd69-8cea-403a-ab7f-31164c0ae3b5 button.colab-df-convert');\n",
              "        buttonEl.style.display =\n",
              "          google.colab.kernel.accessAllowed ? 'block' : 'none';\n",
              "\n",
              "        async function convertToInteractive(key) {\n",
              "          const element = document.querySelector('#df-84bebd69-8cea-403a-ab7f-31164c0ae3b5');\n",
              "          const dataTable =\n",
              "            await google.colab.kernel.invokeFunction('convertToInteractive',\n",
              "                                                     [key], {});\n",
              "          if (!dataTable) return;\n",
              "\n",
              "          const docLinkHtml = 'Like what you see? Visit the ' +\n",
              "            '<a target=\"_blank\" href=https://colab.research.google.com/notebooks/data_table.ipynb>data table notebook</a>'\n",
              "            + ' to learn more about interactive tables.';\n",
              "          element.innerHTML = '';\n",
              "          dataTable['output_type'] = 'display_data';\n",
              "          await google.colab.output.renderOutput(dataTable, element);\n",
              "          const docLink = document.createElement('div');\n",
              "          docLink.innerHTML = docLinkHtml;\n",
              "          element.appendChild(docLink);\n",
              "        }\n",
              "      </script>\n",
              "    </div>\n",
              "  </div>\n",
              "  "
            ]
          },
          "metadata": {},
          "execution_count": 7
        }
      ]
    },
    {
      "cell_type": "code",
      "source": [
        "df.shape"
      ],
      "metadata": {
        "colab": {
          "base_uri": "https://localhost:8080/"
        },
        "id": "pwCiB3qvDOEK",
        "outputId": "8024220e-64c7-4354-9add-9c6098c28315"
      },
      "execution_count": 8,
      "outputs": [
        {
          "output_type": "execute_result",
          "data": {
            "text/plain": [
              "(1340, 11)"
            ]
          },
          "metadata": {},
          "execution_count": 8
        }
      ]
    },
    {
      "cell_type": "code",
      "source": [
        "df.isnull().sum()"
      ],
      "metadata": {
        "id": "dD7mzHFuNMz1"
      },
      "execution_count": null,
      "outputs": []
    },
    {
      "cell_type": "code",
      "source": [
        "df = df.dropna()"
      ],
      "metadata": {
        "id": "63IiALtarfyF"
      },
      "execution_count": 9,
      "outputs": []
    },
    {
      "cell_type": "code",
      "source": [
        "df.isnull().sum()"
      ],
      "metadata": {
        "colab": {
          "base_uri": "https://localhost:8080/"
        },
        "id": "AUFTPiS0rwRY",
        "outputId": "be206c1a-8e64-4195-f182-06ba79d97223"
      },
      "execution_count": 10,
      "outputs": [
        {
          "output_type": "execute_result",
          "data": {
            "text/plain": [
              "index            0\n",
              "PatientID        0\n",
              "age              0\n",
              "gender           0\n",
              "bmi              0\n",
              "bloodpressure    0\n",
              "diabetic         0\n",
              "children         0\n",
              "smoker           0\n",
              "region           0\n",
              "claim            0\n",
              "dtype: int64"
            ]
          },
          "metadata": {},
          "execution_count": 10
        }
      ]
    },
    {
      "cell_type": "code",
      "source": [
        "col=list(df.columns)\n",
        "col"
      ],
      "metadata": {
        "colab": {
          "base_uri": "https://localhost:8080/"
        },
        "id": "zHz9IWj0tXgF",
        "outputId": "6431882c-07e2-4124-bb6f-abbde0b5c4fd"
      },
      "execution_count": 11,
      "outputs": [
        {
          "output_type": "execute_result",
          "data": {
            "text/plain": [
              "['index',\n",
              " 'PatientID',\n",
              " 'age',\n",
              " 'gender',\n",
              " 'bmi',\n",
              " 'bloodpressure',\n",
              " 'diabetic',\n",
              " 'children',\n",
              " 'smoker',\n",
              " 'region',\n",
              " 'claim']"
            ]
          },
          "metadata": {},
          "execution_count": 11
        }
      ]
    },
    {
      "cell_type": "code",
      "source": [
        "df = df.drop(['index'], axis=1)"
      ],
      "metadata": {
        "id": "NTD_IMlpNgo_"
      },
      "execution_count": 12,
      "outputs": []
    },
    {
      "cell_type": "code",
      "source": [
        "df.describe()"
      ],
      "metadata": {
        "colab": {
          "base_uri": "https://localhost:8080/",
          "height": 297
        },
        "id": "cqH0WmNKOgWp",
        "outputId": "db7fd127-a0c3-4c8b-f543-2102c7fc0976"
      },
      "execution_count": 13,
      "outputs": [
        {
          "output_type": "execute_result",
          "data": {
            "text/plain": [
              "         PatientID          age          bmi  bloodpressure     children  \\\n",
              "count  1332.000000  1332.000000  1332.000000    1332.000000  1332.000000   \n",
              "mean    674.474474    38.086336    30.658333      94.189189     1.099850   \n",
              "std     384.703785    11.112804     6.118967      11.445173     1.205958   \n",
              "min       1.000000    18.000000    16.000000      80.000000     0.000000   \n",
              "25%     341.750000    29.000000    26.200000      86.000000     0.000000   \n",
              "50%     674.500000    38.000000    30.350000      92.000000     1.000000   \n",
              "75%    1007.250000    47.000000    34.725000      99.000000     2.000000   \n",
              "max    1340.000000    60.000000    53.100000     140.000000     5.000000   \n",
              "\n",
              "              claim  \n",
              "count   1332.000000  \n",
              "mean   13325.246426  \n",
              "std    12109.620712  \n",
              "min     1121.870000  \n",
              "25%     4760.157500  \n",
              "50%     9412.965000  \n",
              "75%    16781.327500  \n",
              "max    63770.430000  "
            ],
            "text/html": [
              "\n",
              "  <div id=\"df-bb87fd8d-948e-4f1e-9a08-f90695d81861\">\n",
              "    <div class=\"colab-df-container\">\n",
              "      <div>\n",
              "<style scoped>\n",
              "    .dataframe tbody tr th:only-of-type {\n",
              "        vertical-align: middle;\n",
              "    }\n",
              "\n",
              "    .dataframe tbody tr th {\n",
              "        vertical-align: top;\n",
              "    }\n",
              "\n",
              "    .dataframe thead th {\n",
              "        text-align: right;\n",
              "    }\n",
              "</style>\n",
              "<table border=\"1\" class=\"dataframe\">\n",
              "  <thead>\n",
              "    <tr style=\"text-align: right;\">\n",
              "      <th></th>\n",
              "      <th>PatientID</th>\n",
              "      <th>age</th>\n",
              "      <th>bmi</th>\n",
              "      <th>bloodpressure</th>\n",
              "      <th>children</th>\n",
              "      <th>claim</th>\n",
              "    </tr>\n",
              "  </thead>\n",
              "  <tbody>\n",
              "    <tr>\n",
              "      <th>count</th>\n",
              "      <td>1332.000000</td>\n",
              "      <td>1332.000000</td>\n",
              "      <td>1332.000000</td>\n",
              "      <td>1332.000000</td>\n",
              "      <td>1332.000000</td>\n",
              "      <td>1332.000000</td>\n",
              "    </tr>\n",
              "    <tr>\n",
              "      <th>mean</th>\n",
              "      <td>674.474474</td>\n",
              "      <td>38.086336</td>\n",
              "      <td>30.658333</td>\n",
              "      <td>94.189189</td>\n",
              "      <td>1.099850</td>\n",
              "      <td>13325.246426</td>\n",
              "    </tr>\n",
              "    <tr>\n",
              "      <th>std</th>\n",
              "      <td>384.703785</td>\n",
              "      <td>11.112804</td>\n",
              "      <td>6.118967</td>\n",
              "      <td>11.445173</td>\n",
              "      <td>1.205958</td>\n",
              "      <td>12109.620712</td>\n",
              "    </tr>\n",
              "    <tr>\n",
              "      <th>min</th>\n",
              "      <td>1.000000</td>\n",
              "      <td>18.000000</td>\n",
              "      <td>16.000000</td>\n",
              "      <td>80.000000</td>\n",
              "      <td>0.000000</td>\n",
              "      <td>1121.870000</td>\n",
              "    </tr>\n",
              "    <tr>\n",
              "      <th>25%</th>\n",
              "      <td>341.750000</td>\n",
              "      <td>29.000000</td>\n",
              "      <td>26.200000</td>\n",
              "      <td>86.000000</td>\n",
              "      <td>0.000000</td>\n",
              "      <td>4760.157500</td>\n",
              "    </tr>\n",
              "    <tr>\n",
              "      <th>50%</th>\n",
              "      <td>674.500000</td>\n",
              "      <td>38.000000</td>\n",
              "      <td>30.350000</td>\n",
              "      <td>92.000000</td>\n",
              "      <td>1.000000</td>\n",
              "      <td>9412.965000</td>\n",
              "    </tr>\n",
              "    <tr>\n",
              "      <th>75%</th>\n",
              "      <td>1007.250000</td>\n",
              "      <td>47.000000</td>\n",
              "      <td>34.725000</td>\n",
              "      <td>99.000000</td>\n",
              "      <td>2.000000</td>\n",
              "      <td>16781.327500</td>\n",
              "    </tr>\n",
              "    <tr>\n",
              "      <th>max</th>\n",
              "      <td>1340.000000</td>\n",
              "      <td>60.000000</td>\n",
              "      <td>53.100000</td>\n",
              "      <td>140.000000</td>\n",
              "      <td>5.000000</td>\n",
              "      <td>63770.430000</td>\n",
              "    </tr>\n",
              "  </tbody>\n",
              "</table>\n",
              "</div>\n",
              "      <button class=\"colab-df-convert\" onclick=\"convertToInteractive('df-bb87fd8d-948e-4f1e-9a08-f90695d81861')\"\n",
              "              title=\"Convert this dataframe to an interactive table.\"\n",
              "              style=\"display:none;\">\n",
              "        \n",
              "  <svg xmlns=\"http://www.w3.org/2000/svg\" height=\"24px\"viewBox=\"0 0 24 24\"\n",
              "       width=\"24px\">\n",
              "    <path d=\"M0 0h24v24H0V0z\" fill=\"none\"/>\n",
              "    <path d=\"M18.56 5.44l.94 2.06.94-2.06 2.06-.94-2.06-.94-.94-2.06-.94 2.06-2.06.94zm-11 1L8.5 8.5l.94-2.06 2.06-.94-2.06-.94L8.5 2.5l-.94 2.06-2.06.94zm10 10l.94 2.06.94-2.06 2.06-.94-2.06-.94-.94-2.06-.94 2.06-2.06.94z\"/><path d=\"M17.41 7.96l-1.37-1.37c-.4-.4-.92-.59-1.43-.59-.52 0-1.04.2-1.43.59L10.3 9.45l-7.72 7.72c-.78.78-.78 2.05 0 2.83L4 21.41c.39.39.9.59 1.41.59.51 0 1.02-.2 1.41-.59l7.78-7.78 2.81-2.81c.8-.78.8-2.07 0-2.86zM5.41 20L4 18.59l7.72-7.72 1.47 1.35L5.41 20z\"/>\n",
              "  </svg>\n",
              "      </button>\n",
              "      \n",
              "  <style>\n",
              "    .colab-df-container {\n",
              "      display:flex;\n",
              "      flex-wrap:wrap;\n",
              "      gap: 12px;\n",
              "    }\n",
              "\n",
              "    .colab-df-convert {\n",
              "      background-color: #E8F0FE;\n",
              "      border: none;\n",
              "      border-radius: 50%;\n",
              "      cursor: pointer;\n",
              "      display: none;\n",
              "      fill: #1967D2;\n",
              "      height: 32px;\n",
              "      padding: 0 0 0 0;\n",
              "      width: 32px;\n",
              "    }\n",
              "\n",
              "    .colab-df-convert:hover {\n",
              "      background-color: #E2EBFA;\n",
              "      box-shadow: 0px 1px 2px rgba(60, 64, 67, 0.3), 0px 1px 3px 1px rgba(60, 64, 67, 0.15);\n",
              "      fill: #174EA6;\n",
              "    }\n",
              "\n",
              "    [theme=dark] .colab-df-convert {\n",
              "      background-color: #3B4455;\n",
              "      fill: #D2E3FC;\n",
              "    }\n",
              "\n",
              "    [theme=dark] .colab-df-convert:hover {\n",
              "      background-color: #434B5C;\n",
              "      box-shadow: 0px 1px 3px 1px rgba(0, 0, 0, 0.15);\n",
              "      filter: drop-shadow(0px 1px 2px rgba(0, 0, 0, 0.3));\n",
              "      fill: #FFFFFF;\n",
              "    }\n",
              "  </style>\n",
              "\n",
              "      <script>\n",
              "        const buttonEl =\n",
              "          document.querySelector('#df-bb87fd8d-948e-4f1e-9a08-f90695d81861 button.colab-df-convert');\n",
              "        buttonEl.style.display =\n",
              "          google.colab.kernel.accessAllowed ? 'block' : 'none';\n",
              "\n",
              "        async function convertToInteractive(key) {\n",
              "          const element = document.querySelector('#df-bb87fd8d-948e-4f1e-9a08-f90695d81861');\n",
              "          const dataTable =\n",
              "            await google.colab.kernel.invokeFunction('convertToInteractive',\n",
              "                                                     [key], {});\n",
              "          if (!dataTable) return;\n",
              "\n",
              "          const docLinkHtml = 'Like what you see? Visit the ' +\n",
              "            '<a target=\"_blank\" href=https://colab.research.google.com/notebooks/data_table.ipynb>data table notebook</a>'\n",
              "            + ' to learn more about interactive tables.';\n",
              "          element.innerHTML = '';\n",
              "          dataTable['output_type'] = 'display_data';\n",
              "          await google.colab.output.renderOutput(dataTable, element);\n",
              "          const docLink = document.createElement('div');\n",
              "          docLink.innerHTML = docLinkHtml;\n",
              "          element.appendChild(docLink);\n",
              "        }\n",
              "      </script>\n",
              "    </div>\n",
              "  </div>\n",
              "  "
            ]
          },
          "metadata": {},
          "execution_count": 13
        }
      ]
    },
    {
      "cell_type": "code",
      "source": [
        "df['gender'].value_counts()"
      ],
      "metadata": {
        "colab": {
          "base_uri": "https://localhost:8080/"
        },
        "id": "tPM3Z1ikD4nM",
        "outputId": "0224bfb8-af59-4a0d-83ee-a7070e8a2631"
      },
      "execution_count": 14,
      "outputs": [
        {
          "output_type": "execute_result",
          "data": {
            "text/plain": [
              "male      670\n",
              "female    662\n",
              "Name: gender, dtype: int64"
            ]
          },
          "metadata": {},
          "execution_count": 14
        }
      ]
    },
    {
      "cell_type": "code",
      "source": [
        "df['diabetic'].value_counts()"
      ],
      "metadata": {
        "colab": {
          "base_uri": "https://localhost:8080/"
        },
        "id": "dz-_tMlvQlug",
        "outputId": "ebebef61-f36f-4318-b4cd-6e6e172d315d"
      },
      "execution_count": 15,
      "outputs": [
        {
          "output_type": "execute_result",
          "data": {
            "text/plain": [
              "No     695\n",
              "Yes    637\n",
              "Name: diabetic, dtype: int64"
            ]
          },
          "metadata": {},
          "execution_count": 15
        }
      ]
    },
    {
      "cell_type": "code",
      "source": [
        "df['region'].value_counts()"
      ],
      "metadata": {
        "colab": {
          "base_uri": "https://localhost:8080/"
        },
        "id": "PqZPknANEPLf",
        "outputId": "b17ba25d-1262-4195-d5c9-93afe8edd23e"
      },
      "execution_count": 16,
      "outputs": [
        {
          "output_type": "execute_result",
          "data": {
            "text/plain": [
              "southeast    442\n",
              "northwest    345\n",
              "southwest    314\n",
              "northeast    231\n",
              "Name: region, dtype: int64"
            ]
          },
          "metadata": {},
          "execution_count": 16
        }
      ]
    },
    {
      "cell_type": "code",
      "source": [
        "df['smoker'].value_counts()"
      ],
      "metadata": {
        "colab": {
          "base_uri": "https://localhost:8080/"
        },
        "id": "r9GZ9eILEqfP",
        "outputId": "8de4d3fc-4a4e-4570-a474-3c5b5a5e00b6"
      },
      "execution_count": 17,
      "outputs": [
        {
          "output_type": "execute_result",
          "data": {
            "text/plain": [
              "No     1058\n",
              "Yes     274\n",
              "Name: smoker, dtype: int64"
            ]
          },
          "metadata": {},
          "execution_count": 17
        }
      ]
    },
    {
      "cell_type": "code",
      "source": [
        "df.info()"
      ],
      "metadata": {
        "colab": {
          "base_uri": "https://localhost:8080/"
        },
        "id": "MhqGpsnbK3tB",
        "outputId": "3e4f1898-5a10-4ff6-a422-093707ed81f8"
      },
      "execution_count": 18,
      "outputs": [
        {
          "output_type": "stream",
          "name": "stdout",
          "text": [
            "<class 'pandas.core.frame.DataFrame'>\n",
            "Int64Index: 1332 entries, 0 to 1339\n",
            "Data columns (total 10 columns):\n",
            " #   Column         Non-Null Count  Dtype  \n",
            "---  ------         --------------  -----  \n",
            " 0   PatientID      1332 non-null   int64  \n",
            " 1   age            1332 non-null   float64\n",
            " 2   gender         1332 non-null   object \n",
            " 3   bmi            1332 non-null   float64\n",
            " 4   bloodpressure  1332 non-null   int64  \n",
            " 5   diabetic       1332 non-null   object \n",
            " 6   children       1332 non-null   int64  \n",
            " 7   smoker         1332 non-null   object \n",
            " 8   region         1332 non-null   object \n",
            " 9   claim          1332 non-null   float64\n",
            "dtypes: float64(3), int64(3), object(4)\n",
            "memory usage: 114.5+ KB\n"
          ]
        }
      ]
    },
    {
      "cell_type": "code",
      "source": [
        "col=list(df.columns)\n",
        "col"
      ],
      "metadata": {
        "colab": {
          "base_uri": "https://localhost:8080/"
        },
        "id": "CcBWdlxDCXVC",
        "outputId": "80da2db0-3e8b-4d2f-c70e-7a014b606cff"
      },
      "execution_count": 26,
      "outputs": [
        {
          "output_type": "execute_result",
          "data": {
            "text/plain": [
              "['PatientID',\n",
              " 'age',\n",
              " 'gender',\n",
              " 'bmi',\n",
              " 'bloodpressure',\n",
              " 'diabetic',\n",
              " 'children',\n",
              " 'smoker',\n",
              " 'region',\n",
              " 'claim']"
            ]
          },
          "metadata": {},
          "execution_count": 26
        }
      ]
    },
    {
      "cell_type": "code",
      "source": [
        "df.corr()"
      ],
      "metadata": {
        "colab": {
          "base_uri": "https://localhost:8080/",
          "height": 235
        },
        "id": "aqqbPyMmwUlv",
        "outputId": "7601a7e0-1f2f-4ea9-c664-89638475fe5c"
      },
      "execution_count": 19,
      "outputs": [
        {
          "output_type": "execute_result",
          "data": {
            "text/plain": [
              "               PatientID       age       bmi  bloodpressure  children  \\\n",
              "PatientID       1.000000 -0.008705  0.119306       0.450759  0.120136   \n",
              "age            -0.008705  1.000000 -0.042152      -0.060322 -0.026208   \n",
              "bmi             0.119306 -0.042152  1.000000       0.144977  0.013719   \n",
              "bloodpressure   0.450759 -0.060322  0.144977       1.000000 -0.034356   \n",
              "children        0.120136 -0.026208  0.013719      -0.034356  1.000000   \n",
              "claim           0.879392 -0.028636  0.199945       0.531263  0.064149   \n",
              "\n",
              "                  claim  \n",
              "PatientID      0.879392  \n",
              "age           -0.028636  \n",
              "bmi            0.199945  \n",
              "bloodpressure  0.531263  \n",
              "children       0.064149  \n",
              "claim          1.000000  "
            ],
            "text/html": [
              "\n",
              "  <div id=\"df-54ef82c2-6cf2-475d-b910-ab23470d67b9\">\n",
              "    <div class=\"colab-df-container\">\n",
              "      <div>\n",
              "<style scoped>\n",
              "    .dataframe tbody tr th:only-of-type {\n",
              "        vertical-align: middle;\n",
              "    }\n",
              "\n",
              "    .dataframe tbody tr th {\n",
              "        vertical-align: top;\n",
              "    }\n",
              "\n",
              "    .dataframe thead th {\n",
              "        text-align: right;\n",
              "    }\n",
              "</style>\n",
              "<table border=\"1\" class=\"dataframe\">\n",
              "  <thead>\n",
              "    <tr style=\"text-align: right;\">\n",
              "      <th></th>\n",
              "      <th>PatientID</th>\n",
              "      <th>age</th>\n",
              "      <th>bmi</th>\n",
              "      <th>bloodpressure</th>\n",
              "      <th>children</th>\n",
              "      <th>claim</th>\n",
              "    </tr>\n",
              "  </thead>\n",
              "  <tbody>\n",
              "    <tr>\n",
              "      <th>PatientID</th>\n",
              "      <td>1.000000</td>\n",
              "      <td>-0.008705</td>\n",
              "      <td>0.119306</td>\n",
              "      <td>0.450759</td>\n",
              "      <td>0.120136</td>\n",
              "      <td>0.879392</td>\n",
              "    </tr>\n",
              "    <tr>\n",
              "      <th>age</th>\n",
              "      <td>-0.008705</td>\n",
              "      <td>1.000000</td>\n",
              "      <td>-0.042152</td>\n",
              "      <td>-0.060322</td>\n",
              "      <td>-0.026208</td>\n",
              "      <td>-0.028636</td>\n",
              "    </tr>\n",
              "    <tr>\n",
              "      <th>bmi</th>\n",
              "      <td>0.119306</td>\n",
              "      <td>-0.042152</td>\n",
              "      <td>1.000000</td>\n",
              "      <td>0.144977</td>\n",
              "      <td>0.013719</td>\n",
              "      <td>0.199945</td>\n",
              "    </tr>\n",
              "    <tr>\n",
              "      <th>bloodpressure</th>\n",
              "      <td>0.450759</td>\n",
              "      <td>-0.060322</td>\n",
              "      <td>0.144977</td>\n",
              "      <td>1.000000</td>\n",
              "      <td>-0.034356</td>\n",
              "      <td>0.531263</td>\n",
              "    </tr>\n",
              "    <tr>\n",
              "      <th>children</th>\n",
              "      <td>0.120136</td>\n",
              "      <td>-0.026208</td>\n",
              "      <td>0.013719</td>\n",
              "      <td>-0.034356</td>\n",
              "      <td>1.000000</td>\n",
              "      <td>0.064149</td>\n",
              "    </tr>\n",
              "    <tr>\n",
              "      <th>claim</th>\n",
              "      <td>0.879392</td>\n",
              "      <td>-0.028636</td>\n",
              "      <td>0.199945</td>\n",
              "      <td>0.531263</td>\n",
              "      <td>0.064149</td>\n",
              "      <td>1.000000</td>\n",
              "    </tr>\n",
              "  </tbody>\n",
              "</table>\n",
              "</div>\n",
              "      <button class=\"colab-df-convert\" onclick=\"convertToInteractive('df-54ef82c2-6cf2-475d-b910-ab23470d67b9')\"\n",
              "              title=\"Convert this dataframe to an interactive table.\"\n",
              "              style=\"display:none;\">\n",
              "        \n",
              "  <svg xmlns=\"http://www.w3.org/2000/svg\" height=\"24px\"viewBox=\"0 0 24 24\"\n",
              "       width=\"24px\">\n",
              "    <path d=\"M0 0h24v24H0V0z\" fill=\"none\"/>\n",
              "    <path d=\"M18.56 5.44l.94 2.06.94-2.06 2.06-.94-2.06-.94-.94-2.06-.94 2.06-2.06.94zm-11 1L8.5 8.5l.94-2.06 2.06-.94-2.06-.94L8.5 2.5l-.94 2.06-2.06.94zm10 10l.94 2.06.94-2.06 2.06-.94-2.06-.94-.94-2.06-.94 2.06-2.06.94z\"/><path d=\"M17.41 7.96l-1.37-1.37c-.4-.4-.92-.59-1.43-.59-.52 0-1.04.2-1.43.59L10.3 9.45l-7.72 7.72c-.78.78-.78 2.05 0 2.83L4 21.41c.39.39.9.59 1.41.59.51 0 1.02-.2 1.41-.59l7.78-7.78 2.81-2.81c.8-.78.8-2.07 0-2.86zM5.41 20L4 18.59l7.72-7.72 1.47 1.35L5.41 20z\"/>\n",
              "  </svg>\n",
              "      </button>\n",
              "      \n",
              "  <style>\n",
              "    .colab-df-container {\n",
              "      display:flex;\n",
              "      flex-wrap:wrap;\n",
              "      gap: 12px;\n",
              "    }\n",
              "\n",
              "    .colab-df-convert {\n",
              "      background-color: #E8F0FE;\n",
              "      border: none;\n",
              "      border-radius: 50%;\n",
              "      cursor: pointer;\n",
              "      display: none;\n",
              "      fill: #1967D2;\n",
              "      height: 32px;\n",
              "      padding: 0 0 0 0;\n",
              "      width: 32px;\n",
              "    }\n",
              "\n",
              "    .colab-df-convert:hover {\n",
              "      background-color: #E2EBFA;\n",
              "      box-shadow: 0px 1px 2px rgba(60, 64, 67, 0.3), 0px 1px 3px 1px rgba(60, 64, 67, 0.15);\n",
              "      fill: #174EA6;\n",
              "    }\n",
              "\n",
              "    [theme=dark] .colab-df-convert {\n",
              "      background-color: #3B4455;\n",
              "      fill: #D2E3FC;\n",
              "    }\n",
              "\n",
              "    [theme=dark] .colab-df-convert:hover {\n",
              "      background-color: #434B5C;\n",
              "      box-shadow: 0px 1px 3px 1px rgba(0, 0, 0, 0.15);\n",
              "      filter: drop-shadow(0px 1px 2px rgba(0, 0, 0, 0.3));\n",
              "      fill: #FFFFFF;\n",
              "    }\n",
              "  </style>\n",
              "\n",
              "      <script>\n",
              "        const buttonEl =\n",
              "          document.querySelector('#df-54ef82c2-6cf2-475d-b910-ab23470d67b9 button.colab-df-convert');\n",
              "        buttonEl.style.display =\n",
              "          google.colab.kernel.accessAllowed ? 'block' : 'none';\n",
              "\n",
              "        async function convertToInteractive(key) {\n",
              "          const element = document.querySelector('#df-54ef82c2-6cf2-475d-b910-ab23470d67b9');\n",
              "          const dataTable =\n",
              "            await google.colab.kernel.invokeFunction('convertToInteractive',\n",
              "                                                     [key], {});\n",
              "          if (!dataTable) return;\n",
              "\n",
              "          const docLinkHtml = 'Like what you see? Visit the ' +\n",
              "            '<a target=\"_blank\" href=https://colab.research.google.com/notebooks/data_table.ipynb>data table notebook</a>'\n",
              "            + ' to learn more about interactive tables.';\n",
              "          element.innerHTML = '';\n",
              "          dataTable['output_type'] = 'display_data';\n",
              "          await google.colab.output.renderOutput(dataTable, element);\n",
              "          const docLink = document.createElement('div');\n",
              "          docLink.innerHTML = docLinkHtml;\n",
              "          element.appendChild(docLink);\n",
              "        }\n",
              "      </script>\n",
              "    </div>\n",
              "  </div>\n",
              "  "
            ]
          },
          "metadata": {},
          "execution_count": 19
        }
      ]
    },
    {
      "cell_type": "code",
      "source": [
        "sns.displot(df, x=\"age\")"
      ],
      "metadata": {
        "colab": {
          "base_uri": "https://localhost:8080/",
          "height": 386
        },
        "id": "TT97ITgnmJag",
        "outputId": "45f4ac24-db99-4fd5-f4a2-fd8cccc11eec"
      },
      "execution_count": 51,
      "outputs": [
        {
          "output_type": "execute_result",
          "data": {
            "text/plain": [
              "<seaborn.axisgrid.FacetGrid at 0x7f06c0ef4850>"
            ]
          },
          "metadata": {},
          "execution_count": 51
        },
        {
          "output_type": "display_data",
          "data": {
            "text/plain": [
              "<Figure size 360x360 with 1 Axes>"
            ],
            "image/png": "[encoded data removed]"
          },
          "metadata": {
            "needs_background": "light"
          }
        }
      ]
    },
    {
      "cell_type": "markdown",
      "source": [
        "In the above graph, we can analyse the distribution of Age column, and we can say that there are 140+ people who are having age 32 and 45 ."
      ],
      "metadata": {
        "id": "h8J9E2jDH2or"
      }
    },
    {
      "cell_type": "code",
      "source": [
        "sns.distplot(df['bloodpressure'], bins=10)\n",
        "plt.title('Resting Blood pressure desnity plot');"
      ],
      "metadata": {
        "colab": {
          "base_uri": "https://localhost:8080/",
          "height": 295
        },
        "id": "y_C1AuQ1J2Ss",
        "outputId": "6f583b45-2433-4f39-f9c6-da7e09240eed"
      },
      "execution_count": 54,
      "outputs": [
        {
          "output_type": "display_data",
          "data": {
            "text/plain": [
              "<Figure size 432x288 with 1 Axes>"
            ],
            "image/png": "[encoded data removed]"
          },
          "metadata": {
            "needs_background": "light"
          }
        }
      ]
    },
    {
      "cell_type": "code",
      "source": [
        "plt.figure(figsize = (15,11))\n",
        "sns.heatmap(df.corr(),annot=True,cmap='coolwarm')\n",
        "plt.show()"
      ],
      "metadata": {
        "colab": {
          "base_uri": "https://localhost:8080/",
          "height": 650
        },
        "id": "0sZU45kvKDP5",
        "outputId": "46912ba6-49dc-42f8-bdd2-8d1dd5816585"
      },
      "execution_count": 55,
      "outputs": [
        {
          "output_type": "display_data",
          "data": {
            "text/plain": [
              "<Figure size 1080x792 with 2 Axes>"
            ],
            "image/png": "[encoded data removed]"
          },
          "metadata": {
            "needs_background": "light"
          }
        }
      ]
    },
    {
      "cell_type": "code",
      "source": [
        "sns.countplot(x='region', hue='gender', data=df);\n",
        "plt.title('Count of people with feature by region')"
      ],
      "metadata": {
        "colab": {
          "base_uri": "https://localhost:8080/",
          "height": 312
        },
        "id": "Q7oZsLasNbfJ",
        "outputId": "fb4db671-8829-44d8-893a-d26c61ece966"
      },
      "execution_count": 82,
      "outputs": [
        {
          "output_type": "execute_result",
          "data": {
            "text/plain": [
              "Text(0.5, 1.0, 'Count of people with feature by region')"
            ]
          },
          "metadata": {},
          "execution_count": 82
        },
        {
          "output_type": "display_data",
          "data": {
            "text/plain": [
              "<Figure size 432x288 with 1 Axes>"
            ],
            "image/png": "[encoded data removed]"
          },
          "metadata": {
            "needs_background": "light"
          }
        }
      ]
    },
    {
      "cell_type": "code",
      "source": [
        "sns.countplot(x='region', hue='smoker', data=df);\n",
        "plt.title('Count of people with smoke by region')"
      ],
      "metadata": {
        "colab": {
          "base_uri": "https://localhost:8080/",
          "height": 312
        },
        "id": "M_6VMeQoOU8p",
        "outputId": "27a8c707-19e2-49f2-b17d-22ae6b313278"
      },
      "execution_count": 81,
      "outputs": [
        {
          "output_type": "execute_result",
          "data": {
            "text/plain": [
              "Text(0.5, 1.0, 'Count of people with smoke by region')"
            ]
          },
          "metadata": {},
          "execution_count": 81
        },
        {
          "output_type": "display_data",
          "data": {
            "text/plain": [
              "<Figure size 432x288 with 1 Axes>"
            ],
            "image/png": "[encoded data removed]"
          },
          "metadata": {
            "needs_background": "light"
          }
        }
      ]
    },
    {
      "cell_type": "code",
      "source": [
        "sns.countplot(x='region', hue='diabetic', data=df);\n",
        "plt.title('Count of people diabetic by region')"
      ],
      "metadata": {
        "colab": {
          "base_uri": "https://localhost:8080/",
          "height": 312
        },
        "id": "Yg2ffByfOjCB",
        "outputId": "1357ca76-8f14-4147-da23-44707bd67058"
      },
      "execution_count": 80,
      "outputs": [
        {
          "output_type": "execute_result",
          "data": {
            "text/plain": [
              "Text(0.5, 1.0, 'Count of people diabetic by region')"
            ]
          },
          "metadata": {},
          "execution_count": 80
        },
        {
          "output_type": "display_data",
          "data": {
            "text/plain": [
              "<Figure size 432x288 with 1 Axes>"
            ],
            "image/png": "[encoded data removed]"
          },
          "metadata": {
            "needs_background": "light"
          }
        }
      ]
    },
    {
      "cell_type": "code",
      "source": [
        "for col_name in col:\n",
        "    if(df[col_name].dtypes=='int64' or df[col_name].dtypes=='float64'):\n",
        "        plt.boxplot(df[col_name])\n",
        "        plt.xlabel(col_name)\n",
        "        plt.ylabel('count')\n",
        "        plt.show()"
      ],
      "metadata": {
        "colab": {
          "base_uri": "https://localhost:8080/",
          "height": 1000
        },
        "id": "NtLOcmXqnRlA",
        "outputId": "0f4268ba-4fcc-46a3-839e-b55f9e8431ed"
      },
      "execution_count": 27,
      "outputs": [
        {
          "output_type": "display_data",
          "data": {
            "text/plain": [
              "<Figure size 432x288 with 1 Axes>"
            ],
            "image/png": "[encoded data removed]"
          },
          "metadata": {
            "needs_background": "light"
          }
        },
        {
          "output_type": "display_data",
          "data": {
            "text/plain": [
              "<Figure size 432x288 with 1 Axes>"
            ],
            "image/png": "[encoded data removed]"
          },
          "metadata": {
            "needs_background": "light"
          }
        },
        {
          "output_type": "display_data",
          "data": {
            "text/plain": [
              "<Figure size 432x288 with 1 Axes>"
            ],
            "image/png": "[encoded data removed]"
          },
          "metadata": {
            "needs_background": "light"
          }
        },
        {
          "output_type": "display_data",
          "data": {
            "text/plain": [
              "<Figure size 432x288 with 1 Axes>"
            ],
            "image/png": "[encoded data removed]"
          },
          "metadata": {
            "needs_background": "light"
          }
        },
        {
          "output_type": "display_data",
          "data": {
            "text/plain": [
              "<Figure size 432x288 with 1 Axes>"
            ],
            "image/png": "[encoded data removed]"
          },
          "metadata": {
            "needs_background": "light"
          }
        },
        {
          "output_type": "display_data",
          "data": {
            "text/plain": [
              "<Figure size 432x288 with 1 Axes>"
            ],
            "image/png": "[encoded data removed]"
          },
          "metadata": {
            "needs_background": "light"
          }
        }
      ]
    },
    {
      "cell_type": "code",
      "source": [
        "df.plot.scatter(x='age', y='claim', s=20)\n",
        "plt.xlabel('Age')\n",
        "plt.ylabel('Claim')\n",
        "plt.title('Age vs Claim')\n",
        "plt.show()"
      ],
      "metadata": {
        "colab": {
          "base_uri": "https://localhost:8080/",
          "height": 295
        },
        "id": "unYQuQyboJql",
        "outputId": "e04a2867-5949-4e32-96d5-69c54dbd485d"
      },
      "execution_count": 28,
      "outputs": [
        {
          "output_type": "display_data",
          "data": {
            "text/plain": [
              "<Figure size 432x288 with 1 Axes>"
            ],
            "image/png": "[encoded data removed]"
          },
          "metadata": {
            "needs_background": "light"
          }
        }
      ]
    },
    {
      "cell_type": "code",
      "source": [
        "from statsmodels.stats.outliers_influence import variance_inflation_factor \n",
        "col_list = []\n",
        "for col in df.columns:\n",
        "    if ((df[col].dtype != 'object') & (col != 'claim') ):#only num cols except for the dependent claim column.\n",
        "        col_list.append(col)\n",
        "\n",
        "X = df[col_list]\n",
        "vif_data = pd.DataFrame() \n",
        "vif_data[\"feature\"] = X.columns \n",
        "vif_data[\"VIF\"] = [variance_inflation_factor(X.values, i) for i in range(len(X.columns))] \n",
        "print(vif_data)"
      ],
      "metadata": {
        "id": "fwPFt7H9w0_f",
        "colab": {
          "base_uri": "https://localhost:8080/"
        },
        "outputId": "d1b45f00-08c7-45fd-d159-52f8d65082a2"
      },
      "execution_count": 61,
      "outputs": [
        {
          "output_type": "stream",
          "name": "stdout",
          "text": [
            "         feature        VIF\n",
            "0      PatientID   4.895801\n",
            "1            age  10.791394\n",
            "2            bmi  22.634199\n",
            "3  bloodpressure  33.540169\n",
            "4       children   1.833784\n"
          ]
        }
      ]
    },
    {
      "cell_type": "code",
      "source": [
        "X = df[col_list]\n",
        "X"
      ],
      "metadata": {
        "colab": {
          "base_uri": "https://localhost:8080/",
          "height": 419
        },
        "id": "6gNhCnist7VH",
        "outputId": "e98baf2f-5212-456f-c057-cb1de498f647"
      },
      "execution_count": 62,
      "outputs": [
        {
          "output_type": "execute_result",
          "data": {
            "text/plain": [
              "      PatientID   age   bmi  bloodpressure  children\n",
              "0             1  39.0  23.2             91         0\n",
              "1             2  24.0  30.1             87         0\n",
              "7             8  19.0  41.1            100         0\n",
              "8             9  20.0  43.0             86         0\n",
              "9            10  30.0  53.1             97         0\n",
              "...         ...   ...   ...            ...       ...\n",
              "1335       1336  44.0  35.5             88         0\n",
              "1336       1337  59.0  38.1            120         1\n",
              "1337       1338  30.0  34.5             91         3\n",
              "1338       1339  37.0  30.4            106         0\n",
              "1339       1340  30.0  47.4            101         0\n",
              "\n",
              "[1332 rows x 5 columns]"
            ],
            "text/html": [
              "\n",
              "  <div id=\"df-f5670203-63c1-44f1-a521-9a6f6a287b19\">\n",
              "    <div class=\"colab-df-container\">\n",
              "      <div>\n",
              "<style scoped>\n",
              "    .dataframe tbody tr th:only-of-type {\n",
              "        vertical-align: middle;\n",
              "    }\n",
              "\n",
              "    .dataframe tbody tr th {\n",
              "        vertical-align: top;\n",
              "    }\n",
              "\n",
              "    .dataframe thead th {\n",
              "        text-align: right;\n",
              "    }\n",
              "</style>\n",
              "<table border=\"1\" class=\"dataframe\">\n",
              "  <thead>\n",
              "    <tr style=\"text-align: right;\">\n",
              "      <th></th>\n",
              "      <th>PatientID</th>\n",
              "      <th>age</th>\n",
              "      <th>bmi</th>\n",
              "      <th>bloodpressure</th>\n",
              "      <th>children</th>\n",
              "    </tr>\n",
              "  </thead>\n",
              "  <tbody>\n",
              "    <tr>\n",
              "      <th>0</th>\n",
              "      <td>1</td>\n",
              "      <td>39.0</td>\n",
              "      <td>23.2</td>\n",
              "      <td>91</td>\n",
              "      <td>0</td>\n",
              "    </tr>\n",
              "    <tr>\n",
              "      <th>1</th>\n",
              "      <td>2</td>\n",
              "      <td>24.0</td>\n",
              "      <td>30.1</td>\n",
              "      <td>87</td>\n",
              "      <td>0</td>\n",
              "    </tr>\n",
              "    <tr>\n",
              "      <th>7</th>\n",
              "      <td>8</td>\n",
              "      <td>19.0</td>\n",
              "      <td>41.1</td>\n",
              "      <td>100</td>\n",
              "      <td>0</td>\n",
              "    </tr>\n",
              "    <tr>\n",
              "      <th>8</th>\n",
              "      <td>9</td>\n",
              "      <td>20.0</td>\n",
              "      <td>43.0</td>\n",
              "      <td>86</td>\n",
              "      <td>0</td>\n",
              "    </tr>\n",
              "    <tr>\n",
              "      <th>9</th>\n",
              "      <td>10</td>\n",
              "      <td>30.0</td>\n",
              "      <td>53.1</td>\n",
              "      <td>97</td>\n",
              "      <td>0</td>\n",
              "    </tr>\n",
              "    <tr>\n",
              "      <th>...</th>\n",
              "      <td>...</td>\n",
              "      <td>...</td>\n",
              "      <td>...</td>\n",
              "      <td>...</td>\n",
              "      <td>...</td>\n",
              "    </tr>\n",
              "    <tr>\n",
              "      <th>1335</th>\n",
              "      <td>1336</td>\n",
              "      <td>44.0</td>\n",
              "      <td>35.5</td>\n",
              "      <td>88</td>\n",
              "      <td>0</td>\n",
              "    </tr>\n",
              "    <tr>\n",
              "      <th>1336</th>\n",
              "      <td>1337</td>\n",
              "      <td>59.0</td>\n",
              "      <td>38.1</td>\n",
              "      <td>120</td>\n",
              "      <td>1</td>\n",
              "    </tr>\n",
              "    <tr>\n",
              "      <th>1337</th>\n",
              "      <td>1338</td>\n",
              "      <td>30.0</td>\n",
              "      <td>34.5</td>\n",
              "      <td>91</td>\n",
              "      <td>3</td>\n",
              "    </tr>\n",
              "    <tr>\n",
              "      <th>1338</th>\n",
              "      <td>1339</td>\n",
              "      <td>37.0</td>\n",
              "      <td>30.4</td>\n",
              "      <td>106</td>\n",
              "      <td>0</td>\n",
              "    </tr>\n",
              "    <tr>\n",
              "      <th>1339</th>\n",
              "      <td>1340</td>\n",
              "      <td>30.0</td>\n",
              "      <td>47.4</td>\n",
              "      <td>101</td>\n",
              "      <td>0</td>\n",
              "    </tr>\n",
              "  </tbody>\n",
              "</table>\n",
              "<p>1332 rows × 5 columns</p>\n",
              "</div>\n",
              "      <button class=\"colab-df-convert\" onclick=\"convertToInteractive('df-f5670203-63c1-44f1-a521-9a6f6a287b19')\"\n",
              "              title=\"Convert this dataframe to an interactive table.\"\n",
              "              style=\"display:none;\">\n",
              "        \n",
              "  <svg xmlns=\"http://www.w3.org/2000/svg\" height=\"24px\"viewBox=\"0 0 24 24\"\n",
              "       width=\"24px\">\n",
              "    <path d=\"M0 0h24v24H0V0z\" fill=\"none\"/>\n",
              "    <path d=\"M18.56 5.44l.94 2.06.94-2.06 2.06-.94-2.06-.94-.94-2.06-.94 2.06-2.06.94zm-11 1L8.5 8.5l.94-2.06 2.06-.94-2.06-.94L8.5 2.5l-.94 2.06-2.06.94zm10 10l.94 2.06.94-2.06 2.06-.94-2.06-.94-.94-2.06-.94 2.06-2.06.94z\"/><path d=\"M17.41 7.96l-1.37-1.37c-.4-.4-.92-.59-1.43-.59-.52 0-1.04.2-1.43.59L10.3 9.45l-7.72 7.72c-.78.78-.78 2.05 0 2.83L4 21.41c.39.39.9.59 1.41.59.51 0 1.02-.2 1.41-.59l7.78-7.78 2.81-2.81c.8-.78.8-2.07 0-2.86zM5.41 20L4 18.59l7.72-7.72 1.47 1.35L5.41 20z\"/>\n",
              "  </svg>\n",
              "      </button>\n",
              "      \n",
              "  <style>\n",
              "    .colab-df-container {\n",
              "      display:flex;\n",
              "      flex-wrap:wrap;\n",
              "      gap: 12px;\n",
              "    }\n",
              "\n",
              "    .colab-df-convert {\n",
              "      background-color: #E8F0FE;\n",
              "      border: none;\n",
              "      border-radius: 50%;\n",
              "      cursor: pointer;\n",
              "      display: none;\n",
              "      fill: #1967D2;\n",
              "      height: 32px;\n",
              "      padding: 0 0 0 0;\n",
              "      width: 32px;\n",
              "    }\n",
              "\n",
              "    .colab-df-convert:hover {\n",
              "      background-color: #E2EBFA;\n",
              "      box-shadow: 0px 1px 2px rgba(60, 64, 67, 0.3), 0px 1px 3px 1px rgba(60, 64, 67, 0.15);\n",
              "      fill: #174EA6;\n",
              "    }\n",
              "\n",
              "    [theme=dark] .colab-df-convert {\n",
              "      background-color: #3B4455;\n",
              "      fill: #D2E3FC;\n",
              "    }\n",
              "\n",
              "    [theme=dark] .colab-df-convert:hover {\n",
              "      background-color: #434B5C;\n",
              "      box-shadow: 0px 1px 3px 1px rgba(0, 0, 0, 0.15);\n",
              "      filter: drop-shadow(0px 1px 2px rgba(0, 0, 0, 0.3));\n",
              "      fill: #FFFFFF;\n",
              "    }\n",
              "  </style>\n",
              "\n",
              "      <script>\n",
              "        const buttonEl =\n",
              "          document.querySelector('#df-f5670203-63c1-44f1-a521-9a6f6a287b19 button.colab-df-convert');\n",
              "        buttonEl.style.display =\n",
              "          google.colab.kernel.accessAllowed ? 'block' : 'none';\n",
              "\n",
              "        async function convertToInteractive(key) {\n",
              "          const element = document.querySelector('#df-f5670203-63c1-44f1-a521-9a6f6a287b19');\n",
              "          const dataTable =\n",
              "            await google.colab.kernel.invokeFunction('convertToInteractive',\n",
              "                                                     [key], {});\n",
              "          if (!dataTable) return;\n",
              "\n",
              "          const docLinkHtml = 'Like what you see? Visit the ' +\n",
              "            '<a target=\"_blank\" href=https://colab.research.google.com/notebooks/data_table.ipynb>data table notebook</a>'\n",
              "            + ' to learn more about interactive tables.';\n",
              "          element.innerHTML = '';\n",
              "          dataTable['output_type'] = 'display_data';\n",
              "          await google.colab.output.renderOutput(dataTable, element);\n",
              "          const docLink = document.createElement('div');\n",
              "          docLink.innerHTML = docLinkHtml;\n",
              "          element.appendChild(docLink);\n",
              "        }\n",
              "      </script>\n",
              "    </div>\n",
              "  </div>\n",
              "  "
            ]
          },
          "metadata": {},
          "execution_count": 62
        }
      ]
    },
    {
      "cell_type": "code",
      "source": [
        "X.values"
      ],
      "metadata": {
        "colab": {
          "base_uri": "https://localhost:8080/"
        },
        "id": "yt7ZXnMkuSIj",
        "outputId": "b9025b2a-5445-498d-fc1f-e7bd7a6c4aac"
      },
      "execution_count": 63,
      "outputs": [
        {
          "output_type": "execute_result",
          "data": {
            "text/plain": [
              "array([[1.00e+00, 3.90e+01, 2.32e+01, 9.10e+01, 0.00e+00],\n",
              "       [2.00e+00, 2.40e+01, 3.01e+01, 8.70e+01, 0.00e+00],\n",
              "       [8.00e+00, 1.90e+01, 4.11e+01, 1.00e+02, 0.00e+00],\n",
              "       ...,\n",
              "       [1.34e+03, 3.00e+01, 3.45e+01, 9.10e+01, 3.00e+00],\n",
              "       [1.34e+03, 3.70e+01, 3.04e+01, 1.06e+02, 0.00e+00],\n",
              "       [1.34e+03, 3.00e+01, 4.74e+01, 1.01e+02, 0.00e+00]])"
            ]
          },
          "metadata": {},
          "execution_count": 63
        }
      ]
    },
    {
      "cell_type": "code",
      "source": [
        "X = df.loc[:,['PatientID','age','bmi','bloodpressure','children']].values\n",
        "y = df.iloc[:, -1].values"
      ],
      "metadata": {
        "id": "XE8aQBWgu7VW"
      },
      "execution_count": 64,
      "outputs": []
    },
    {
      "cell_type": "code",
      "source": [
        "from sklearn.model_selection import train_test_split\n",
        "X_train, X_test, y_train, y_test = train_test_split(X, y, test_size = 0.30, random_state = 0)"
      ],
      "metadata": {
        "id": "NiDiH6TDvK0w"
      },
      "execution_count": 65,
      "outputs": []
    },
    {
      "cell_type": "code",
      "source": [
        "from sklearn.linear_model import LinearRegression\n",
        "regressor = LinearRegression()\n",
        "regressor.fit(X_train, y_train)"
      ],
      "metadata": {
        "colab": {
          "base_uri": "https://localhost:8080/"
        },
        "id": "PCah5R9PvOsu",
        "outputId": "ad8c7fbe-1e91-4f05-b38d-70c285dbb888"
      },
      "execution_count": 66,
      "outputs": [
        {
          "output_type": "execute_result",
          "data": {
            "text/plain": [
              "LinearRegression()"
            ]
          },
          "metadata": {},
          "execution_count": 66
        }
      ]
    },
    {
      "cell_type": "code",
      "source": [
        "lin_pred = regressor.predict(X_test)"
      ],
      "metadata": {
        "id": "EREWq_BPy-67"
      },
      "execution_count": 67,
      "outputs": []
    },
    {
      "cell_type": "code",
      "source": [
        "from sklearn.metrics import *\n",
        "r2_on_test=r2_score(y_test, lin_pred)\n",
        "r2_on_test"
      ],
      "metadata": {
        "colab": {
          "base_uri": "https://localhost:8080/"
        },
        "id": "N6K4ETbUzALZ",
        "outputId": "8a910636-7798-4968-aac2-ec5a129138f8"
      },
      "execution_count": 36,
      "outputs": [
        {
          "output_type": "execute_result",
          "data": {
            "text/plain": [
              "0.8131661356961107"
            ]
          },
          "metadata": {},
          "execution_count": 36
        }
      ]
    },
    {
      "cell_type": "code",
      "source": [
        "# Our model here is predicting the values 81.31% times right with Linear Regression."
      ],
      "metadata": {
        "id": "xckxLFo513BO"
      },
      "execution_count": null,
      "outputs": []
    },
    {
      "cell_type": "code",
      "source": [
        "from sklearn.metrics import accuracy_score,confusion_matrix"
      ],
      "metadata": {
        "id": "FFGPCR2XKLQd"
      },
      "execution_count": 68,
      "outputs": []
    },
    {
      "cell_type": "code",
      "source": [
        "from sklearn.tree import DecisionTreeRegressor\n",
        "regressor = DecisionTreeRegressor(random_state = 0)\n",
        "regressor.fit(X_train, y_train)"
      ],
      "metadata": {
        "colab": {
          "base_uri": "https://localhost:8080/"
        },
        "id": "sQ3ZQL8_KnP7",
        "outputId": "13e61e54-c4f8-4ca2-bfec-71f458ab3c75"
      },
      "execution_count": 69,
      "outputs": [
        {
          "output_type": "execute_result",
          "data": {
            "text/plain": [
              "DecisionTreeRegressor(random_state=0)"
            ]
          },
          "metadata": {},
          "execution_count": 69
        }
      ]
    },
    {
      "cell_type": "code",
      "source": [
        "y_pred = regressor.predict(X_test)\n",
        "np.set_printoptions(precision=2)\n",
        "print(np.concatenate((y_pred.reshape(len(y_pred),1), y_test.reshape(len(y_test),1)),1))"
      ],
      "metadata": {
        "colab": {
          "base_uri": "https://localhost:8080/"
        },
        "id": "01P3xZ2PVvJd",
        "outputId": "f0e526e0-bde1-43e2-e1dd-15d800ef13dd"
      },
      "execution_count": 70,
      "outputs": [
        {
          "output_type": "stream",
          "name": "stdout",
          "text": [
            "[[28476.73 27941.29]\n",
            " [ 6313.76  6334.34]\n",
            " [ 6455.86  6457.84]\n",
            " [ 3875.73  3877.3 ]\n",
            " [39836.52 39983.43]\n",
            " [ 2597.78  2639.04]\n",
            " [ 8068.19  8062.76]\n",
            " [11073.18 11090.72]\n",
            " [ 3761.29  3736.46]\n",
            " [ 5377.46  5375.04]\n",
            " [16776.3  16796.41]\n",
            " [ 3484.33  3490.55]\n",
            " [10923.93 10928.85]\n",
            " [ 6600.36  6640.54]\n",
            " [33732.69 33900.65]\n",
            " [11512.41 11454.02]\n",
            " [16586.5  16450.89]\n",
            " [ 2498.41  2497.04]\n",
            " [36197.7  36219.41]\n",
            " [ 1725.55  1727.54]\n",
            " [41034.22 40974.16]\n",
            " [18246.5  18310.74]\n",
            " [ 9722.77  9748.91]\n",
            " [ 1163.46  1241.57]\n",
            " [ 2196.47  2200.83]\n",
            " [ 1708.93  1708.  ]\n",
            " [ 1633.04  1633.96]\n",
            " [14451.84 14455.64]\n",
            " [14001.13 14007.22]\n",
            " [ 6123.57  6128.8 ]\n",
            " [ 2710.83  2719.28]\n",
            " [ 1737.38  1728.9 ]\n",
            " [35160.13 35069.37]\n",
            " [ 1737.38  1731.68]\n",
            " [ 4058.12  4074.45]\n",
            " [39597.41 39722.75]\n",
            " [ 6203.9   6198.75]\n",
            " [18903.49 19023.26]\n",
            " [ 6067.13  6082.41]\n",
            " [42124.52 41676.08]\n",
            " [17626.24 17904.53]\n",
            " [ 3044.21  3021.81]\n",
            " [ 6203.9   6272.48]\n",
            " [12475.35 12523.6 ]\n",
            " [21771.34 22144.03]\n",
            " [ 8310.84  8302.54]\n",
            " [ 7626.99  7537.16]\n",
            " [12643.38 12644.59]\n",
            " [12731.   12741.17]\n",
            " [ 7345.08  7371.77]\n",
            " [16138.76 16297.85]\n",
            " [ 6770.19  6775.96]\n",
            " [20167.34 19964.75]\n",
            " [ 6203.9   6289.75]\n",
            " [ 7337.75  7345.73]\n",
            " [37607.53 37701.88]\n",
            " [11566.3  11657.72]\n",
            " [37742.58 37829.72]\n",
            " [10564.88 10577.09]\n",
            " [ 6117.49  6079.67]\n",
            " [13143.34 13129.6 ]\n",
            " [11362.76 11353.23]\n",
            " [ 3956.07  3935.18]\n",
            " [ 7441.5   7526.71]\n",
            " [ 8026.67  8027.97]\n",
            " [12231.61 12233.83]\n",
            " [ 4185.1   4133.64]\n",
            " [16138.76 16232.85]\n",
            " [ 3500.61  3554.2 ]\n",
            " [62592.87 63770.43]\n",
            " [34303.17 34439.86]\n",
            " [49577.66 51194.56]\n",
            " [ 7228.22  7243.81]\n",
            " [ 3956.07  3925.76]\n",
            " [ 7147.47  7152.67]\n",
            " [19521.97 19539.24]\n",
            " [20149.32 20009.63]\n",
            " [24869.84 24667.42]\n",
            " [ 7162.01  7196.87]\n",
            " [38415.47 38245.59]\n",
            " [37742.58 38126.25]\n",
            " [17128.43 17043.34]\n",
            " [ 7147.47  7151.09]\n",
            " [ 4718.2   4719.52]\n",
            " [ 7441.5   7445.92]\n",
            " [ 5484.47  5472.45]\n",
            " [16138.76 16420.49]\n",
            " [ 9288.03  9283.56]\n",
            " [13457.96 13470.86]\n",
            " [ 3227.12  3238.44]\n",
            " [13063.88 13112.6 ]\n",
            " [ 1526.31  1615.77]\n",
            " [ 8334.59  8334.46]\n",
            " [ 6686.43  6710.19]\n",
            " [ 4433.92  4435.09]\n",
            " [ 1737.38  1727.79]\n",
            " [ 4746.34  4738.27]\n",
            " [24535.7  24520.26]\n",
            " [ 7045.5   7077.19]\n",
            " [ 1702.46  1711.03]\n",
            " [ 4466.62  4462.72]\n",
            " [28868.66 29523.17]\n",
            " [24671.66 24915.05]\n",
            " [30942.19 30063.58]\n",
            " [19749.38 19798.05]\n",
            " [17626.24 17663.14]\n",
            " [ 6389.38  6393.6 ]\n",
            " [23082.96 23065.42]\n",
            " [12609.89 12574.05]\n",
            " [25992.82 26140.36]\n",
            " [34166.27 34472.84]\n",
            " [ 8671.19  8627.54]\n",
            " [26125.67 25678.78]\n",
            " [24535.7  24513.09]\n",
            " [13143.34 13143.86]\n",
            " [ 8823.99  8871.15]\n",
            " [12129.61 12124.99]\n",
            " [ 1986.93  2007.95]\n",
            " [ 1674.63  1682.6 ]\n",
            " [14451.84 14449.85]\n",
            " [ 9563.03  9549.57]\n",
            " [ 8520.03  8551.35]\n",
            " [20420.6  20277.81]\n",
            " [11272.33 11286.54]\n",
            " [ 6203.9   6196.45]\n",
            " [ 2710.83  2709.24]\n",
            " [ 1121.87  1131.51]\n",
            " [15820.7  16069.08]\n",
            " [ 7228.22  7201.7 ]\n",
            " [ 3201.25  3213.62]\n",
            " [ 4561.19  4618.08]\n",
            " [ 7144.86  7133.9 ]\n",
            " [39836.52 39774.28]\n",
            " [ 1748.77  1744.47]\n",
            " [ 2480.98  2494.02]\n",
            " [ 7441.5   7443.64]\n",
            " [ 6600.21  6593.51]\n",
            " [ 5855.9   5910.94]\n",
            " [ 8211.1   8233.1 ]\n",
            " [ 4561.19  4564.19]\n",
            " [43813.87 43254.42]\n",
            " [ 3353.47  3353.28]\n",
            " [28340.19 28101.33]\n",
            " [ 9872.7   9957.72]\n",
            " [ 6770.19  6837.37]\n",
            " [ 3044.21  3046.06]\n",
            " [ 1149.4   1532.47]\n",
            " [ 5209.58  5152.13]\n",
            " [19933.46 20177.67]\n",
            " [47055.53 46599.11]\n",
            " [ 9304.7   9290.14]\n",
            " [41661.6  41999.52]\n",
            " [ 3558.62  3578.  ]\n",
            " [ 4670.64  4673.39]\n",
            " [ 2302.3   2304.  ]\n",
            " [ 8978.19  8988.16]\n",
            " [11946.63 11987.17]\n",
            " [ 1391.53  1261.86]\n",
            " [16138.76 16115.3 ]\n",
            " [24603.05 25656.58]\n",
            " [10825.25 10713.64]\n",
            " [13224.06 13204.29]\n",
            " [ 1972.95  1977.82]\n",
            " [23568.27 24059.68]\n",
            " [ 4441.21  4438.26]\n",
            " [ 4571.41  4544.23]\n",
            " [ 5969.72  5976.83]\n",
            " [ 5425.02  5438.75]\n",
            " [17626.24 17942.11]\n",
            " [ 1815.88  1769.53]\n",
            " [21771.34 21978.68]\n",
            " [ 2102.26  2103.08]\n",
            " [ 9432.93  9447.38]\n",
            " [ 7727.25  7682.67]\n",
            " [ 6986.7   6985.51]\n",
            " [ 1909.53  1917.32]\n",
            " [ 6686.43  6664.69]\n",
            " [ 2498.41  2483.74]\n",
            " [ 7512.27  7441.05]\n",
            " [ 6117.49  6112.35]\n",
            " [ 4646.76  4661.29]\n",
            " [ 8026.67  8023.14]\n",
            " [14349.85 14382.71]\n",
            " [25992.82 26109.33]\n",
            " [16586.5  16455.71]\n",
            " [ 2689.5   2690.11]\n",
            " [15170.07 15555.19]\n",
            " [16586.5  16577.78]\n",
            " [ 1391.53  1261.44]\n",
            " [35147.53 35491.64]\n",
            " [36397.58 36307.8 ]\n",
            " [ 6203.9   6238.3 ]\n",
            " [46661.44 46718.16]\n",
            " [43753.34 43578.94]\n",
            " [ 1631.67  1631.82]\n",
            " [ 3176.82  3180.51]\n",
            " [11735.88 11737.85]\n",
            " [ 8582.3   8556.91]\n",
            " [ 6356.27  6338.08]\n",
            " [15230.32 15359.1 ]\n",
            " [12268.63 12269.69]\n",
            " [ 7160.09  7173.36]\n",
            " [ 9644.25  9634.54]\n",
            " [11455.28 11534.87]\n",
            " [23807.24 23401.31]\n",
            " [12363.55 12404.88]\n",
            " [ 6356.27  6311.95]\n",
            " [ 4402.23  4428.89]\n",
            " [24227.34 24180.93]\n",
            " [11837.16 11833.78]\n",
            " [14988.43 15006.58]\n",
            " [11394.07 11381.33]\n",
            " [18157.88 18033.97]\n",
            " [ 4670.64  4667.61]\n",
            " [ 8124.41  8125.78]\n",
            " [ 5729.01  5709.16]\n",
            " [ 8798.59  8782.47]\n",
            " [ 6548.2   6500.24]\n",
            " [15820.7  15817.99]\n",
            " [11881.97 11881.36]\n",
            " [ 3167.46  3161.45]\n",
            " [ 3579.83  3591.48]\n",
            " [ 4751.07  4762.33]\n",
            " [17352.68 17468.98]\n",
            " [ 8162.72  8219.2 ]\n",
            " [ 4894.75  4883.87]\n",
            " [11345.52 11356.66]\n",
            " [ 6203.9   6186.13]\n",
            " [41034.22 40941.29]\n",
            " [ 7421.19  7419.48]\n",
            " [48517.56 48885.14]\n",
            " [15161.53 15612.19]\n",
            " [ 6875.96  6849.03]\n",
            " [ 3410.32  3385.4 ]\n",
            " [34838.87 35585.58]\n",
            " [ 5630.46  5615.37]\n",
            " [11741.73 11830.61]\n",
            " [10065.41 10107.22]\n",
            " [ 7345.08  7358.18]\n",
            " [13217.09 13352.1 ]\n",
            " [ 3766.88  3857.76]\n",
            " [18328.24 18608.26]\n",
            " [ 7512.27  7418.52]\n",
            " [11842.62 11879.1 ]\n",
            " [ 9377.9   9411.01]\n",
            " [ 8932.08  8930.93]\n",
            " [14043.48 14119.62]\n",
            " [42111.66 42112.24]\n",
            " [ 5729.01  5662.23]\n",
            " [20167.34 20234.85]\n",
            " [27117.99 27000.98]\n",
            " [ 1635.73  1639.56]\n",
            " [12629.9  12638.2 ]\n",
            " [11345.52 11365.95]\n",
            " [38282.75 38511.63]\n",
            " [23244.79 23241.47]\n",
            " [ 8605.36  8615.3 ]\n",
            " [ 7153.55  7147.11]\n",
            " [ 9193.84  9222.4 ]\n",
            " [ 4500.34  4518.83]\n",
            " [10085.85 10106.13]\n",
            " [ 6548.2   6571.02]\n",
            " [22462.04 22478.6 ]\n",
            " [ 8603.82  8604.48]\n",
            " [ 3167.46  3171.61]\n",
            " [ 3704.35  3732.63]\n",
            " [28868.66 28923.14]\n",
            " [ 8026.67  8059.68]\n",
            " [42124.52 42211.14]\n",
            " [ 1720.35  1719.44]\n",
            " [28868.66 28950.47]\n",
            " [42111.66 41949.24]\n",
            " [ 5920.1   5966.89]\n",
            " [30942.19 30284.64]\n",
            " [ 7626.99  7639.42]\n",
            " [16586.5  16657.72]\n",
            " [16776.3  16884.92]\n",
            " [ 9058.73  9048.03]\n",
            " [13393.76 13430.27]\n",
            " [ 1702.46  1705.62]\n",
            " [21771.34 21774.32]\n",
            " [13470.8  13462.52]\n",
            " [ 8342.91  8347.16]\n",
            " [ 5124.19  5148.55]\n",
            " [ 9563.03  9617.66]\n",
            " [ 4137.52  4189.11]\n",
            " [33475.82 33471.97]\n",
            " [ 4058.12  4076.5 ]\n",
            " [12485.8  12430.95]\n",
            " [ 5974.38  5972.38]\n",
            " [ 4239.89  4296.27]\n",
            " [ 9225.26  9264.8 ]\n",
            " [ 4449.46  4454.4 ]\n",
            " [ 6746.74  6748.59]\n",
            " [ 9850.43  9855.13]\n",
            " [ 3167.46  3172.02]\n",
            " [ 8823.28  8825.09]\n",
            " [12235.84 12265.51]\n",
            " [ 1875.34  1877.93]\n",
            " [10977.21 10959.69]\n",
            " [ 1391.53  1263.25]\n",
            " [12333.83 12347.17]\n",
            " [15230.32 15019.76]\n",
            " [ 4500.34  4529.48]\n",
            " [ 7441.5   7518.03]\n",
            " [39836.52 39871.7 ]\n",
            " [ 9249.5   9282.48]\n",
            " [ 1815.88  1826.84]\n",
            " [45863.21 46113.51]\n",
            " [11566.3  11658.38]\n",
            " [ 7729.65  7731.43]\n",
            " [ 4746.34  4747.05]\n",
            " [ 5124.19  5125.22]\n",
            " [10965.45 10959.33]\n",
            " [13880.95 13887.97]\n",
            " [12475.35 12479.71]\n",
            " [39125.33 39556.49]\n",
            " [26926.51 27037.91]\n",
            " [42560.43 42303.69]\n",
            " [25382.3  25517.11]\n",
            " [10791.96 10704.47]\n",
            " [ 7633.72  7650.77]\n",
            " [10594.23 10601.41]\n",
            " [ 6600.21  6571.54]\n",
            " [46151.12 46255.11]\n",
            " [11938.26 12029.29]\n",
            " [10797.34 10806.84]\n",
            " [48517.56 48824.45]\n",
            " [42760.5  42983.46]\n",
            " [ 8252.28  8240.59]\n",
            " [18157.88 18218.16]\n",
            " [ 2395.17  2404.73]\n",
            " [ 1526.31  1534.3 ]\n",
            " [25309.49 25333.33]\n",
            " [ 6548.2   6555.07]\n",
            " [17128.43 17178.68]\n",
            " [10702.64 10736.87]\n",
            " [23288.93 23306.55]\n",
            " [ 3062.51  3056.39]\n",
            " [ 1704.57  3077.1 ]\n",
            " [ 2154.36  2155.68]\n",
            " [14590.63 14692.67]\n",
            " [ 1725.55  1759.34]\n",
            " [21082.16 21098.55]\n",
            " [42560.43 42969.85]\n",
            " [10602.39 10601.63]\n",
            " [10370.91 10407.09]\n",
            " [10965.45 11013.71]\n",
            " [ 6770.19  6781.35]\n",
            " [23967.38 24106.91]\n",
            " [ 8162.72  8269.04]\n",
            " [ 1980.07  1981.58]\n",
            " [14988.43 14711.74]\n",
            " [12815.44 12890.06]\n",
            " [ 4922.92  4931.65]\n",
            " [12044.34 12032.33]\n",
            " [18806.15 18765.88]\n",
            " [42760.5  42856.84]\n",
            " [ 3875.73  3906.13]\n",
            " [12485.8  12557.61]\n",
            " [ 4500.34  4536.26]\n",
            " [11881.97 11931.13]\n",
            " [ 2205.98  2207.7 ]\n",
            " [ 5729.01  5757.41]\n",
            " [ 3875.73  3866.86]\n",
            " [ 5031.27  5080.1 ]\n",
            " [ 6875.96  6933.24]\n",
            " [ 3981.98  4005.42]\n",
            " [ 5124.19  5116.5 ]\n",
            " [11289.11 11299.34]\n",
            " [11394.07 11396.9 ]\n",
            " [ 4185.1   4134.08]\n",
            " [10325.21 10355.64]\n",
            " [ 8457.82  8444.47]\n",
            " [ 2257.48  2261.57]\n",
            " [36910.61 37079.37]\n",
            " [14394.56 14394.4 ]\n",
            " [11842.62 11848.14]\n",
            " [ 1515.34  1607.51]\n",
            " [11743.3  11743.93]\n",
            " [19107.78 19199.94]\n",
            " [38711.   38792.69]\n",
            " [40103.89 40003.33]\n",
            " [13974.46 13919.82]\n",
            " [11394.07 11436.74]\n",
            " [ 4922.92  4949.76]\n",
            " [28868.66 29330.98]\n",
            " [32734.19 32787.46]\n",
            " [34672.15 34617.84]\n",
            " [ 6548.2   6474.01]\n",
            " [ 7740.34  7749.16]\n",
            " [ 2130.68  2134.9 ]\n",
            " [10923.93 10942.13]\n",
            " [13429.04 13390.56]\n",
            " [28468.92 28287.9 ]\n",
            " [ 3176.82  3176.29]\n",
            " [10594.23 10594.5 ]\n",
            " [ 2927.06  2974.13]\n",
            " [44423.8  44585.46]\n",
            " [10118.42 10115.01]]\n"
          ]
        }
      ]
    },
    {
      "cell_type": "code",
      "source": [
        "r2_score(y_test, y_pred)"
      ],
      "metadata": {
        "colab": {
          "base_uri": "https://localhost:8080/"
        },
        "id": "LwIp9r1dWXew",
        "outputId": "d21abd6c-e256-41f9-e796-f1b5dc1837d8"
      },
      "execution_count": 72,
      "outputs": [
        {
          "output_type": "execute_result",
          "data": {
            "text/plain": [
              "0.9997399320664014"
            ]
          },
          "metadata": {},
          "execution_count": 72
        }
      ]
    },
    {
      "cell_type": "code",
      "source": [
        "#Our model here is predicting the values 99.97% times right with Decesion Tree Regression."
      ],
      "metadata": {
        "id": "isIaZ-vZWj5K"
      },
      "execution_count": null,
      "outputs": []
    }
  ]
}